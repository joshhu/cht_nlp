{
 "cells": [
  {
   "cell_type": "markdown",
   "metadata": {
    "colab_type": "text",
    "id": "Ssk5BSNbelCF"
   },
   "source": [
    "## 資料準備\n",
    "* 先到  https://dumps.wikimedia.org/zhwiki/20200401/zhwiki-20200401-pages-articles-multistream.xml.bz2 下載\n",
    "* 上傳到google drive上\n",
    "* 在colab中掛載你的google drive"
   ]
  },
  {
   "cell_type": "code",
   "execution_count": null,
   "metadata": {
    "colab": {},
    "colab_type": "code",
    "id": "0Ta_qze2iHJi"
   },
   "outputs": [],
   "source": [
    "!pip install opencc-python-reimplemented"
   ]
  },
  {
   "cell_type": "code",
   "execution_count": 1,
   "metadata": {
    "colab": {},
    "colab_type": "code",
    "id": "1BIoy7K5eqIS"
   },
   "outputs": [],
   "source": [
    "from gensim.corpora import WikiCorpus\n",
    "\n",
    "# wiki_corpus = WikiCorpus('./drive/My Drive/zhwiki-20200401-pages-articles-multistream.xml.bz2', dictionary={})\n",
    "wiki_corpus = WikiCorpus('zhwiki-20200601-pages-articles-multistream.xml.bz2', dictionary={})"
   ]
  },
  {
   "cell_type": "code",
   "execution_count": 2,
   "metadata": {
    "colab": {},
    "colab_type": "code",
    "id": "KqX5g3Idsp-V"
   },
   "outputs": [
    {
     "data": {
      "text/plain": [
       "['歐幾里得',\n",
       " '西元前三世紀的古希臘數學家',\n",
       " '現在被認為是幾何之父',\n",
       " '此畫為拉斐爾的作品',\n",
       " '雅典學院',\n",
       " '数学',\n",
       " '是利用符号语言研究數量',\n",
       " '结构',\n",
       " '变化以及空间等概念的一門学科',\n",
       " '从某种角度看屬於形式科學的一種']"
      ]
     },
     "execution_count": 2,
     "metadata": {},
     "output_type": "execute_result"
    }
   ],
   "source": [
    "next(iter(wiki_corpus.get_texts()))[:10]"
   ]
  },
  {
   "cell_type": "code",
   "execution_count": 3,
   "metadata": {
    "colab": {},
    "colab_type": "code",
    "id": "AL99YGiSfhGu"
   },
   "outputs": [
    {
     "name": "stdout",
     "output_type": "stream",
     "text": [
      "10000 articles processed.\n",
      "20000 articles processed.\n",
      "30000 articles processed.\n",
      "40000 articles processed.\n",
      "50000 articles processed.\n",
      "60000 articles processed.\n",
      "70000 articles processed.\n",
      "80000 articles processed.\n",
      "90000 articles processed.\n",
      "100000 articles processed.\n",
      "110000 articles processed.\n",
      "120000 articles processed.\n",
      "130000 articles processed.\n",
      "140000 articles processed.\n",
      "150000 articles processed.\n",
      "160000 articles processed.\n",
      "170000 articles processed.\n",
      "180000 articles processed.\n",
      "190000 articles processed.\n",
      "200000 articles processed.\n",
      "210000 articles processed.\n",
      "220000 articles processed.\n",
      "230000 articles processed.\n",
      "240000 articles processed.\n",
      "250000 articles processed.\n",
      "260000 articles processed.\n",
      "270000 articles processed.\n",
      "280000 articles processed.\n",
      "290000 articles processed.\n",
      "300000 articles processed.\n",
      "310000 articles processed.\n",
      "320000 articles processed.\n",
      "330000 articles processed.\n",
      "340000 articles processed.\n",
      "350000 articles processed.\n",
      "360000 articles processed.\n",
      "365364 articles processed.\n"
     ]
    }
   ],
   "source": [
    "text_num = 0\n",
    "# wiki_text = './drive/My Drive/wiki_text.txt'\n",
    "wiki_text = \"./wiki_text.txt\"\n",
    "\n",
    "with open(wiki_text, 'w', encoding='utf-8') as f:\n",
    "    for text in wiki_corpus.get_texts():\n",
    "        f.write(' '.join(text)+'\\n')\n",
    "        text_num += 1\n",
    "        if text_num % 10000 == 0:\n",
    "            print('{} articles processed.'.format(text_num))\n",
    "\n",
    "    print('{} articles processed.'.format(text_num))"
   ]
  },
  {
   "cell_type": "code",
   "execution_count": null,
   "metadata": {
    "colab": {},
    "colab_type": "code",
    "id": "jwntOBc0e1Yd"
   },
   "outputs": [],
   "source": []
  },
  {
   "cell_type": "code",
   "execution_count": 5,
   "metadata": {
    "colab": {},
    "colab_type": "code",
    "id": "FQ01OEi6szXr"
   },
   "outputs": [
    {
     "name": "stderr",
     "output_type": "stream",
     "text": [
      "Building prefix dict from the default dictionary ...\n",
      "Dumping model to file cache /tmp/jieba.cache\n",
      "Loading model cost 0.690 seconds.\n",
      "Prefix dict has been built successfully.\n"
     ]
    },
    {
     "data": {
      "text/plain": [
       "864482847"
      ]
     },
     "execution_count": 5,
     "metadata": {},
     "output_type": "execute_result"
    }
   ],
   "source": [
    "import jieba\n",
    "from opencc import OpenCC\n",
    "\n",
    "seg_txt = \"./seg.txt\"\n",
    "\n",
    "\n",
    "# Initial\n",
    "cc = OpenCC('s2t')\n",
    "train_data = open(wiki_text, 'r', encoding='utf-8').read()\n",
    "train_data = cc.convert(train_data)\n",
    "train_data = jieba.lcut(train_data)\n",
    "train_data = [word for word in train_data if word != '']\n",
    "train_data = ' '.join(train_data)\n",
    "# open('.drive/My Drive/seg.txt', 'w', encoding='utf-8').write(train_data)\n",
    "open(seg_txt, 'w', encoding='utf-8').write(train_data)"
   ]
  },
  {
   "cell_type": "code",
   "execution_count": 6,
   "metadata": {
    "colab": {},
    "colab_type": "code",
    "id": "FXxRBbays3k0"
   },
   "outputs": [],
   "source": [
    "from gensim.models import word2vec\n",
    "modelfile = './bigword2vec.model'\n",
    "\n",
    "# Settings\n",
    "seed = 666\n",
    "sg = 0\n",
    "window_size = 10\n",
    "vector_size = 100\n",
    "min_count = 1\n",
    "workers = 8\n",
    "epochs = 5\n",
    "batch_words = 10000\n",
    "\n",
    "train_data = word2vec.LineSentence(seg_txt)\n",
    "model = word2vec.Word2Vec(\n",
    "    train_data,\n",
    "    min_count=min_count,\n",
    "    size=vector_size,\n",
    "    workers=workers,\n",
    "    iter=epochs,\n",
    "    window=window_size,\n",
    "    sg=sg,\n",
    "    seed=seed,\n",
    "    batch_words=batch_words\n",
    ")\n",
    "\n",
    "model.save(modelfile)"
   ]
  },
  {
   "cell_type": "code",
   "execution_count": 8,
   "metadata": {
    "colab": {},
    "colab_type": "code",
    "id": "1PovTacQs-R_"
   },
   "outputs": [
    {
     "name": "stdout",
     "output_type": "stream",
     "text": [
      "北京\n",
      "('上海', 0.7746219038963318)\n",
      "('天津', 0.7471978068351746)\n",
      "('中國', 0.7430629730224609)\n",
      "('北京市', 0.73702073097229)\n",
      "('南京', 0.7096562385559082)\n",
      "('武漢', 0.6664685010910034)\n",
      "('杭州', 0.6645199656486511)\n",
      "('成都', 0.6571203470230103)\n",
      "('北平', 0.6407104730606079)\n",
      "('重慶', 0.6379987001419067)\n"
     ]
    }
   ],
   "source": [
    "from gensim.models import word2vec\n",
    "\n",
    "string = '北京'\n",
    "model = word2vec.Word2Vec.load(modelfile)\n",
    "print(string)\n",
    "\n",
    "for item in model.wv.most_similar(string):\n",
    "    print(item)"
   ]
  },
  {
   "cell_type": "code",
   "execution_count": null,
   "metadata": {
    "colab": {},
    "colab_type": "code",
    "id": "E235am9EVIuG"
   },
   "outputs": [],
   "source": []
  }
 ],
 "metadata": {
  "colab": {
   "collapsed_sections": [],
   "machine_shape": "hm",
   "name": "gensim_wiki.ipynb",
   "private_outputs": true,
   "provenance": []
  },
  "kernelspec": {
   "display_name": "Python [conda env:pytorch] *",
   "language": "python",
   "name": "conda-env-pytorch-py"
  },
  "language_info": {
   "codemirror_mode": {
    "name": "ipython",
    "version": 3
   },
   "file_extension": ".py",
   "mimetype": "text/x-python",
   "name": "python",
   "nbconvert_exporter": "python",
   "pygments_lexer": "ipython3",
   "version": "3.7.5"
  }
 },
 "nbformat": 4,
 "nbformat_minor": 4
}
