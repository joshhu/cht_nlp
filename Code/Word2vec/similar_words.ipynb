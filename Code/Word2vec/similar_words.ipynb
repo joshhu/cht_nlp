{
 "cells": [
  {
   "cell_type": "code",
   "execution_count": 1,
   "metadata": {},
   "outputs": [
    {
     "name": "stdout",
     "output_type": "stream",
     "text": [
      "北京\n",
      "('上海', 0.7746219038963318)\n",
      "('天津', 0.7471978068351746)\n",
      "('中國', 0.7430629730224609)\n",
      "('北京市', 0.73702073097229)\n",
      "('南京', 0.7096562385559082)\n",
      "('武漢', 0.6664685010910034)\n",
      "('杭州', 0.6645199656486511)\n",
      "('成都', 0.6571203470230103)\n",
      "('北平', 0.6407104730606079)\n",
      "('重慶', 0.6379987001419067)\n"
     ]
    }
   ],
   "source": [
    "from gensim.models import word2vec\n",
    "\n",
    "modelfile = './bigword2vec.model'\n",
    "string = '北京'\n",
    "model = word2vec.Word2Vec.load(modelfile)\n",
    "print(string)\n",
    "\n",
    "for item in model.wv.most_similar(string):\n",
    "    print(item)"
   ]
  }
 ],
 "metadata": {
  "kernelspec": {
   "display_name": "Python [conda env:pytorch] *",
   "language": "python",
   "name": "conda-env-pytorch-py"
  },
  "language_info": {
   "codemirror_mode": {
    "name": "ipython",
    "version": 3
   },
   "file_extension": ".py",
   "mimetype": "text/x-python",
   "name": "python",
   "nbconvert_exporter": "python",
   "pygments_lexer": "ipython3",
   "version": "3.7.5"
  }
 },
 "nbformat": 4,
 "nbformat_minor": 4
}
