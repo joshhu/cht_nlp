{
 "cells": [
  {
   "cell_type": "code",
   "execution_count": 1,
   "metadata": {},
   "outputs": [
    {
     "name": "stderr",
     "output_type": "stream",
     "text": [
      "Building prefix dict from the default dictionary ...\n",
      "Dumping model to file cache /tmp/jieba.cache\n",
      "Loading model cost 0.695 seconds.\n",
      "Prefix dict has been built successfully.\n"
     ]
    },
    {
     "name": "stdout",
     "output_type": "stream",
     "text": [
      "預設: 總統|蔡|英文|論文風|波延燒|後|，|最新|民調|今日|出爐|！|據親|藍民調|公布|結果|，|蔡|英文|支持|度|45%|，|遙遙|領先|韓國瑜|的|33%|，|兩人|差距|擴大到|12|個|百分|點|。|顯示|論文門|風波|，|並未重|創小英|聲望|。\n",
      "全關閉: 總|統|蔡|英文|論|文|風|波|延|燒|後|，|最新|民|調|今日|出|爐|！|據|親|藍|民|調|公布|結|果|，|蔡|英文|支持|度|45|%|，|遙|遙|領|先|韓|國|瑜|的|33|%|，|兩|人|差距|擴|大|到|12|個|百分|點|。|顯|示|論|文|門|風|波|，|並|未|重|創|小|英|聲|望|。\n",
      "全關閉: 總|統|蔡|英文|論|文|風|波|延|燒|後|，|最新|新民|調|今日|日出|爐|！|據|親|藍|民|調|公布|結|果|，|蔡|英文|支持|度|45|%|，|遙|遙|領|先|韓|國|瑜|的|33|%|，|兩|人|差距|擴|大|到|12|個|百分|點|。|顯|示|論|文|門|風|波|，|並|未|重|創|小|英|聲|望|。\n"
     ]
    }
   ],
   "source": [
    "# -*- coding: utf-8 -*-\n",
    "import jieba\n",
    "\n",
    "text = '總統蔡英文論文風波延燒後，最新民調今日出爐！據親藍民調公布結果，蔡英文支持度45%，遙遙領先韓國瑜的33%，兩人差距擴大到12個百分點。顯示論文門風波，並未重創小英聲望。'\n",
    "print('預設:', '|'.join(jieba.cut(text, cut_all=False, HMM=True)))\n",
    "print('全關閉:', '|'.join(jieba.cut(text, cut_all=False, HMM=False)))\n",
    "print('全關閉:', '|'.join(jieba.cut(text, cut_all=True, HMM=True)))"
   ]
  },
  {
   "cell_type": "code",
   "execution_count": 2,
   "metadata": {},
   "outputs": [
    {
     "name": "stdout",
     "output_type": "stream",
     "text": [
      "我 r\n",
      "來 v\n",
      "到 v\n",
      "北京 ns\n",
      "清華大學 nt\n"
     ]
    }
   ],
   "source": [
    "# -*- coding: utf-8 -*-\n",
    "import jieba\n",
    "import jieba.posseg as pseg\n",
    "\n",
    "text = '我來到北京清華大學'\n",
    "words = pseg.cut(text)\n",
    "for word, flag in words:\n",
    "    print(word, flag)"
   ]
  },
  {
   "cell_type": "code",
   "execution_count": 3,
   "metadata": {},
   "outputs": [
    {
     "name": "stdout",
     "output_type": "stream",
     "text": [
      "['英文', '總統', '論文風', '波延燒', '民調']\n"
     ]
    }
   ],
   "source": [
    "# -*- coding: utf-8 -*-\n",
    "import jieba\n",
    "import jieba.analyse\n",
    "\n",
    "text = '總統蔡英文論文風波延燒後，最新民調今日出爐！據親藍民調公布結果，蔡英文支持度45%，遙遙領先韓國瑜的33%，兩人差距擴大到12個百分點。顯示論文門風波，並未重創小英聲望。'\n",
    "tags = jieba.analyse.extract_tags(text, topK=5)\n",
    "print(tags)"
   ]
  },
  {
   "cell_type": "code",
   "execution_count": null,
   "metadata": {},
   "outputs": [],
   "source": []
  }
 ],
 "metadata": {
  "kernelspec": {
   "display_name": "Python [conda env:.conda-pytorch13] *",
   "language": "python",
   "name": "conda-env-.conda-pytorch13-py"
  },
  "language_info": {
   "codemirror_mode": {
    "name": "ipython",
    "version": 3
   },
   "file_extension": ".py",
   "mimetype": "text/x-python",
   "name": "python",
   "nbconvert_exporter": "python",
   "pygments_lexer": "ipython3",
   "version": "3.7.5"
  }
 },
 "nbformat": 4,
 "nbformat_minor": 4
}
