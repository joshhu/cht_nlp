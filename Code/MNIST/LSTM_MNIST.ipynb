{
  "nbformat": 4,
  "nbformat_minor": 0,
  "metadata": {
    "colab": {
      "name": "LSTM_MNIST",
      "provenance": [],
      "collapsed_sections": []
    },
    "kernelspec": {
      "name": "python3",
      "display_name": "Python 3"
    },
    "accelerator": "GPU"
  },
  "cells": [
    {
      "cell_type": "code",
      "metadata": {
        "id": "5MAD2vFT0mHM",
        "colab_type": "code",
        "colab": {}
      },
      "source": [
        "import torch \n",
        "import torch.nn as nn\n",
        "import torchvision\n",
        "import torchvision.transforms as transforms\n"
      ],
      "execution_count": 0,
      "outputs": []
    },
    {
      "cell_type": "code",
      "metadata": {
        "id": "2GDhVKi71ewW",
        "colab_type": "code",
        "colab": {
          "base_uri": "https://localhost:8080/",
          "height": 34
        },
        "outputId": "a83e98e5-7c84-4aaf-981f-85ac7c44b2da"
      },
      "source": [
        "# Device configuration\n",
        "device = torch.device('cuda' if torch.cuda.is_available() else 'cpu')\n",
        "print(device)"
      ],
      "execution_count": 5,
      "outputs": [
        {
          "output_type": "stream",
          "text": [
            "cuda\n"
          ],
          "name": "stdout"
        }
      ]
    },
    {
      "cell_type": "code",
      "metadata": {
        "id": "fXNNRfJX1l8A",
        "colab_type": "code",
        "colab": {}
      },
      "source": [
        "# Hyper-parameters\n",
        "sequence_length = 28\n",
        "input_size = 28\n",
        "hidden_size = 128\n",
        "num_layers = 2\n",
        "num_classes = 10\n",
        "batch_size = 100\n",
        "num_epochs = 10\n",
        "learning_rate = 0.01"
      ],
      "execution_count": 0,
      "outputs": []
    },
    {
      "cell_type": "code",
      "metadata": {
        "id": "lDWTs8261phd",
        "colab_type": "code",
        "colab": {}
      },
      "source": [
        "# MNIST dataset\n",
        "train_dataset = torchvision.datasets.MNIST(root='../../data/',\n",
        "                                           train=True, \n",
        "                                           transform=transforms.ToTensor(),\n",
        "                                           download=True)\n",
        "\n",
        "test_dataset = torchvision.datasets.MNIST(root='../../data/',\n",
        "                                          train=False, \n",
        "                                          transform=transforms.ToTensor())\n",
        "\n",
        "# Data loader\n",
        "train_loader = torch.utils.data.DataLoader(dataset=train_dataset,\n",
        "                                           batch_size=batch_size, \n",
        "                                           shuffle=True)\n",
        "\n",
        "test_loader = torch.utils.data.DataLoader(dataset=test_dataset,\n",
        "                                          batch_size=batch_size, \n",
        "                                          shuffle=False)\n"
      ],
      "execution_count": 0,
      "outputs": []
    },
    {
      "cell_type": "code",
      "metadata": {
        "id": "7O9lWgz_1tzZ",
        "colab_type": "code",
        "colab": {
          "base_uri": "https://localhost:8080/",
          "height": 84
        },
        "outputId": "1726e77e-0116-455d-d6b3-619a7aea0359"
      },
      "source": [
        "# Recurrent neural network (many-to-one)\n",
        "class RNN(nn.Module):\n",
        "    def __init__(self, input_size, hidden_size, num_layers, num_classes):\n",
        "        super(RNN, self).__init__()\n",
        "        self.hidden_size = hidden_size\n",
        "        self.num_layers = num_layers\n",
        "        self.lstm = nn.LSTM(input_size, hidden_size, num_layers, batch_first=True)\n",
        "        self.fc = nn.Linear(hidden_size, num_classes)\n",
        "    \n",
        "    def forward(self, x):\n",
        "        # Set initial hidden and cell states \n",
        "        h0 = torch.zeros(self.num_layers, x.size(0), self.hidden_size).to(device) \n",
        "        c0 = torch.zeros(self.num_layers, x.size(0), self.hidden_size).to(device)\n",
        "        \n",
        "        # Forward propagate LSTM\n",
        "        out, _ = self.lstm(x, (h0, c0))  # out: tensor of shape (batch_size, seq_length, hidden_size)\n",
        "        \n",
        "        # Decode the hidden state of the last time step\n",
        "        out = self.fc(out[:, -1, :])\n",
        "        return out\n",
        "\n",
        "model = RNN(input_size, hidden_size, num_layers, num_classes).to(device)\n",
        "model"
      ],
      "execution_count": 9,
      "outputs": [
        {
          "output_type": "execute_result",
          "data": {
            "text/plain": [
              "RNN(\n",
              "  (lstm): LSTM(28, 128, num_layers=2, batch_first=True)\n",
              "  (fc): Linear(in_features=128, out_features=10, bias=True)\n",
              ")"
            ]
          },
          "metadata": {
            "tags": []
          },
          "execution_count": 9
        }
      ]
    },
    {
      "cell_type": "code",
      "metadata": {
        "id": "sgD27Q8i1w8e",
        "colab_type": "code",
        "colab": {}
      },
      "source": [
        "# Loss and optimizer\n",
        "criterion = nn.CrossEntropyLoss()\n",
        "optimizer = torch.optim.Adam(model.parameters(), lr=learning_rate)\n"
      ],
      "execution_count": 0,
      "outputs": []
    },
    {
      "cell_type": "code",
      "metadata": {
        "id": "si7IgP8u11u8",
        "colab_type": "code",
        "colab": {
          "base_uri": "https://localhost:8080/",
          "height": 1000
        },
        "outputId": "043c51ee-c713-4771-8d41-2acd64ec5b1c"
      },
      "source": [
        "# Train the model\n",
        "total_step = len(train_loader)\n",
        "for epoch in range(num_epochs):\n",
        "    for i, (images, labels) in enumerate(train_loader):\n",
        "        images = images.reshape(-1, sequence_length, input_size).to(device)\n",
        "        labels = labels.to(device)\n",
        "        \n",
        "        # Forward pass\n",
        "        outputs = model(images)\n",
        "        loss = criterion(outputs, labels)\n",
        "        \n",
        "        # Backward and optimize\n",
        "        optimizer.zero_grad()\n",
        "        loss.backward()\n",
        "        optimizer.step()\n",
        "        \n",
        "        if (i+1) % 100 == 0:\n",
        "            print ('Epoch [{}/{}], Step [{}/{}], Loss: {:.4f}' \n",
        "                   .format(epoch+1, num_epochs, i+1, total_step, loss.item()))"
      ],
      "execution_count": 11,
      "outputs": [
        {
          "output_type": "stream",
          "text": [
            "Epoch [1/10], Step [100/600], Loss: 0.5864\n",
            "Epoch [1/10], Step [200/600], Loss: 0.1907\n",
            "Epoch [1/10], Step [300/600], Loss: 0.2306\n",
            "Epoch [1/10], Step [400/600], Loss: 0.1688\n",
            "Epoch [1/10], Step [500/600], Loss: 0.2004\n",
            "Epoch [1/10], Step [600/600], Loss: 0.0374\n",
            "Epoch [2/10], Step [100/600], Loss: 0.1061\n",
            "Epoch [2/10], Step [200/600], Loss: 0.0166\n",
            "Epoch [2/10], Step [300/600], Loss: 0.0094\n",
            "Epoch [2/10], Step [400/600], Loss: 0.0870\n",
            "Epoch [2/10], Step [500/600], Loss: 0.0636\n",
            "Epoch [2/10], Step [600/600], Loss: 0.1455\n",
            "Epoch [3/10], Step [100/600], Loss: 0.0503\n",
            "Epoch [3/10], Step [200/600], Loss: 0.1136\n",
            "Epoch [3/10], Step [300/600], Loss: 0.1358\n",
            "Epoch [3/10], Step [400/600], Loss: 0.0650\n",
            "Epoch [3/10], Step [500/600], Loss: 0.1130\n",
            "Epoch [3/10], Step [600/600], Loss: 0.0829\n",
            "Epoch [4/10], Step [100/600], Loss: 0.0619\n",
            "Epoch [4/10], Step [200/600], Loss: 0.0526\n",
            "Epoch [4/10], Step [300/600], Loss: 0.0284\n",
            "Epoch [4/10], Step [400/600], Loss: 0.0359\n",
            "Epoch [4/10], Step [500/600], Loss: 0.0850\n",
            "Epoch [4/10], Step [600/600], Loss: 0.2318\n",
            "Epoch [5/10], Step [100/600], Loss: 0.0449\n",
            "Epoch [5/10], Step [200/600], Loss: 0.0288\n",
            "Epoch [5/10], Step [300/600], Loss: 0.0874\n",
            "Epoch [5/10], Step [400/600], Loss: 0.0728\n",
            "Epoch [5/10], Step [500/600], Loss: 0.0208\n",
            "Epoch [5/10], Step [600/600], Loss: 0.0644\n",
            "Epoch [6/10], Step [100/600], Loss: 0.0735\n",
            "Epoch [6/10], Step [200/600], Loss: 0.0929\n",
            "Epoch [6/10], Step [300/600], Loss: 0.0078\n",
            "Epoch [6/10], Step [400/600], Loss: 0.0268\n",
            "Epoch [6/10], Step [500/600], Loss: 0.1406\n",
            "Epoch [6/10], Step [600/600], Loss: 0.0396\n",
            "Epoch [7/10], Step [100/600], Loss: 0.0875\n",
            "Epoch [7/10], Step [200/600], Loss: 0.0249\n",
            "Epoch [7/10], Step [300/600], Loss: 0.0886\n",
            "Epoch [7/10], Step [400/600], Loss: 0.0278\n",
            "Epoch [7/10], Step [500/600], Loss: 0.0506\n",
            "Epoch [7/10], Step [600/600], Loss: 0.0346\n",
            "Epoch [8/10], Step [100/600], Loss: 0.2097\n",
            "Epoch [8/10], Step [200/600], Loss: 0.0432\n",
            "Epoch [8/10], Step [300/600], Loss: 0.0109\n",
            "Epoch [8/10], Step [400/600], Loss: 0.1417\n",
            "Epoch [8/10], Step [500/600], Loss: 0.1266\n",
            "Epoch [8/10], Step [600/600], Loss: 0.0161\n",
            "Epoch [9/10], Step [100/600], Loss: 0.0887\n",
            "Epoch [9/10], Step [200/600], Loss: 0.2393\n",
            "Epoch [9/10], Step [300/600], Loss: 0.0166\n",
            "Epoch [9/10], Step [400/600], Loss: 0.0286\n",
            "Epoch [9/10], Step [500/600], Loss: 0.0669\n",
            "Epoch [9/10], Step [600/600], Loss: 0.0338\n",
            "Epoch [10/10], Step [100/600], Loss: 0.0788\n",
            "Epoch [10/10], Step [200/600], Loss: 0.1020\n",
            "Epoch [10/10], Step [300/600], Loss: 0.0916\n",
            "Epoch [10/10], Step [400/600], Loss: 0.0466\n",
            "Epoch [10/10], Step [500/600], Loss: 0.0912\n",
            "Epoch [10/10], Step [600/600], Loss: 0.0815\n"
          ],
          "name": "stdout"
        }
      ]
    },
    {
      "cell_type": "code",
      "metadata": {
        "id": "eLMK6_0C15Jz",
        "colab_type": "code",
        "colab": {
          "base_uri": "https://localhost:8080/",
          "height": 34
        },
        "outputId": "00ec075a-9397-468c-a42f-365c1408cd36"
      },
      "source": [
        "# Test the model\n",
        "model.eval()\n",
        "with torch.no_grad():\n",
        "    correct = 0\n",
        "    total = 0\n",
        "    for images, labels in test_loader:\n",
        "        images = images.reshape(-1, sequence_length, input_size).to(device)\n",
        "        labels = labels.to(device)\n",
        "        outputs = model(images)\n",
        "        _, predicted = torch.max(outputs.data, 1)\n",
        "        total += labels.size(0)\n",
        "        correct += (predicted == labels).sum().item()\n",
        "\n",
        "    print('Test Accuracy of the model on the 10000 test images: {} %'.format(100 * correct / total)) \n"
      ],
      "execution_count": 12,
      "outputs": [
        {
          "output_type": "stream",
          "text": [
            "Test Accuracy of the model on the 10000 test images: 97.44 %\n"
          ],
          "name": "stdout"
        }
      ]
    },
    {
      "cell_type": "code",
      "metadata": {
        "id": "PDQfbgmJ17gX",
        "colab_type": "code",
        "colab": {}
      },
      "source": [
        "# Save the model checkpoint\n",
        "torch.save(model.state_dict(), 'model.ckpt')"
      ],
      "execution_count": 0,
      "outputs": []
    }
  ]
}